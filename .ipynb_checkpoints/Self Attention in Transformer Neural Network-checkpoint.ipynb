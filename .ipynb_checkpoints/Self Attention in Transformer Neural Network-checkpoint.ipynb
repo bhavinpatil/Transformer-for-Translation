{
 "cells": [
  {
   "cell_type": "code",
   "execution_count": 2,
   "id": "0b29b7d5",
   "metadata": {},
   "outputs": [],
   "source": [
    "import numpy as np\n",
    "import math"
   ]
  },
  {
   "cell_type": "code",
   "execution_count": 3,
   "id": "87d5c689",
   "metadata": {},
   "outputs": [],
   "source": [
    "L, d_k, d_v = 4, 8, 8\n",
    "# L - length of input sequence\n",
    "\n",
    "# Query Vector for what i am looking for?\n",
    "q = np.random.randn(L, d_k) \n",
    "\n",
    "# key Vector for what i can offer?\n",
    "k = np.random.randn(L, d_k)\n",
    "\n",
    "# Value Vector for what i can actually offer?\n",
    "v = np.random.randn(L, d_k)"
   ]
  },
  {
   "cell_type": "code",
   "execution_count": 4,
   "id": "52be69af",
   "metadata": {},
   "outputs": [
    {
     "name": "stdout",
     "output_type": "stream",
     "text": [
      "\n",
      "Q:  [[ 0.35292165 -2.42305817  0.69046244 -0.47845401  0.50689946 -1.02207339\n",
      "  -0.84721908 -1.41738232]\n",
      " [-0.39111263 -1.22635155 -0.25379764  0.94699906 -0.04908601  0.59878926\n",
      "   0.09471052 -1.18064159]\n",
      " [-1.29704503 -1.56886625  0.03308404  0.67139391  0.01403374  1.89264955\n",
      "   1.24032343 -0.69794846]\n",
      " [ 0.65181004  0.70532573 -0.75087357 -2.1500712   0.35381951 -0.32147255\n",
      "  -0.18700822  1.05418744]]\n",
      "\n",
      "K:  [[-1.05556466 -0.65575548 -0.60045189  0.1701294  -1.6596807  -0.39826288\n",
      "   0.21002508 -0.22950192]\n",
      " [-0.37452831 -0.97842119  0.75160694 -0.57925442  1.18437778 -1.38003843\n",
      "   1.04940125  1.10597404]\n",
      " [ 1.90459612 -0.87242125 -0.21312456 -0.68596798  0.54010164 -0.43779328\n",
      "  -1.92585614  0.17720304]\n",
      " [ 0.26655539 -0.28642872  0.81852355  0.58848341  1.22661266 -0.90873139\n",
      "  -0.03056235  0.92031232]]\n",
      "\n",
      "V:  [[-1.75679877  2.34325231  0.1777176   1.95375292  1.31817722  0.57872102\n",
      "  -0.87563972 -0.11241762]\n",
      " [ 1.49006228 -0.83211621 -2.04190506 -0.318155    1.47569886 -1.05394128\n",
      "   0.23764006  1.09179655]\n",
      " [ 0.86880906  2.14555269 -0.89980479  1.03469467 -0.69301851 -1.33113993\n",
      "   1.11267869 -0.92377774]\n",
      " [ 0.00774416 -1.47587808 -1.16710467  1.44227573  1.82565956 -0.41308845\n",
      "  -1.23327636  0.36942283]]\n"
     ]
    }
   ],
   "source": [
    "print(\"\\nQ: \", q)\n",
    "print(\"\\nK: \", k)\n",
    "print(\"\\nV: \", v)"
   ]
  },
  {
   "cell_type": "markdown",
   "id": "ea7605c4",
   "metadata": {},
   "source": [
    "# Self Attention"
   ]
  },
  {
   "cell_type": "code",
   "execution_count": 6,
   "id": "6209cc03",
   "metadata": {},
   "outputs": [
    {
     "data": {
      "text/plain": [
       "array([[ 0.43353084,  2.58889548,  5.06884197,  1.3437222 ],\n",
       "       [ 1.66437974, -1.48379655, -0.95080644, -1.09723868],\n",
       "       [ 2.13588196, -0.4088734 , -4.90261313, -1.85711561],\n",
       "       [-1.80588701,  1.57920722,  3.13979647, -0.20614222]])"
      ]
     },
     "execution_count": 6,
     "metadata": {},
     "output_type": "execute_result"
    }
   ],
   "source": [
    "np.matmul(q, k.T)"
   ]
  },
  {
   "cell_type": "markdown",
   "id": "c9342858",
   "metadata": {},
   "source": [
    "# Maksing\n",
    "\n",
    "specifically require in decoder part of transformer so we dont look at the future word when trying to generate current context"
   ]
  },
  {
   "cell_type": "code",
   "execution_count": 8,
   "id": "0f779284",
   "metadata": {},
   "outputs": [
    {
     "data": {
      "text/plain": [
       "array([[1., 0., 0., 0.],\n",
       "       [1., 1., 0., 0.],\n",
       "       [1., 1., 1., 0.],\n",
       "       [1., 1., 1., 1.]])"
      ]
     },
     "execution_count": 8,
     "metadata": {},
     "output_type": "execute_result"
    }
   ],
   "source": [
    "mask = np.tril(np.ones((L, L)))\n",
    "mask"
   ]
  },
  {
   "cell_type": "code",
   "execution_count": 9,
   "id": "552782f0",
   "metadata": {},
   "outputs": [],
   "source": [
    "mask[mask==0] = -np.infty\n",
    "mask[mask==1] = 0"
   ]
  },
  {
   "cell_type": "code",
   "execution_count": null,
   "id": "57746b08",
   "metadata": {},
   "outputs": [],
   "source": []
  },
  {
   "cell_type": "markdown",
   "id": "a2613b6f",
   "metadata": {},
   "source": []
  }
 ],
 "metadata": {
  "kernelspec": {
   "display_name": "Python 3 (ipykernel)",
   "language": "python",
   "name": "python3"
  },
  "language_info": {
   "codemirror_mode": {
    "name": "ipython",
    "version": 3
   },
   "file_extension": ".py",
   "mimetype": "text/x-python",
   "name": "python",
   "nbconvert_exporter": "python",
   "pygments_lexer": "ipython3",
   "version": "3.11.4"
  }
 },
 "nbformat": 4,
 "nbformat_minor": 5
}
