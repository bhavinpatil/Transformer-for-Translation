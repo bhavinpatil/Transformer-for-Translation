{
 "cells": [
  {
   "cell_type": "markdown",
   "id": "3ecf54db",
   "metadata": {},
   "source": [
    "# Single Head Attention Mechanisms"
   ]
  },
  {
   "cell_type": "code",
   "execution_count": 1,
   "id": "c08fb245",
   "metadata": {},
   "outputs": [],
   "source": [
    "import numpy as np\n",
    "import math"
   ]
  },
  {
   "cell_type": "code",
   "execution_count": 2,
   "id": "4856a726",
   "metadata": {},
   "outputs": [],
   "source": [
    "L, d_k, d_v = 4, 8, 8\n",
    "# L - length of input sequence\n",
    "\n",
    "# Query Vector for what i am looking for?\n",
    "q = np.random.randn(L, d_k) \n",
    "\n",
    "# key Vector for what i can offer?\n",
    "k = np.random.randn(L, d_k)\n",
    "\n",
    "# Value Vector for what i can actually offer?\n",
    "v = np.random.randn(L, d_k)"
   ]
  },
  {
   "cell_type": "code",
   "execution_count": 3,
   "id": "22929d48",
   "metadata": {},
   "outputs": [
    {
     "name": "stdout",
     "output_type": "stream",
     "text": [
      "\n",
      "Q:  [[ 0.17860127 -0.12679924 -0.70385102 -0.1321929   1.66246326 -0.13830833\n",
      "  -0.91713395  0.38146683]\n",
      " [-0.6867237  -0.36840547  0.34886887  0.60999383  0.49675138  0.05169754\n",
      "   1.73291754 -1.44874149]\n",
      " [-0.5206792   0.88486143  1.55438362  0.45791464  0.76019937  0.63370558\n",
      "  -0.50140007  1.23242755]\n",
      " [-0.5230864  -1.14149062 -0.7578606  -0.59142653  0.76552817 -0.81982243\n",
      "  -0.09392885 -0.11942583]]\n",
      "\n",
      "K:  [[-0.25348382  0.65407831 -1.01298103 -1.2455882   0.81397054 -0.20435126\n",
      "   0.78180332  1.37437123]\n",
      " [-0.01597132 -1.51435872 -0.28574857  1.09904496  0.84577145 -0.34560973\n",
      "  -0.67450277  0.38056754]\n",
      " [ 1.1796839   0.55844447 -0.49982861 -0.43669645  0.95549426 -0.8175062\n",
      "   1.24984591 -1.24680455]\n",
      " [-0.43477699 -0.20702378 -0.86591103 -0.02795983  1.36668061  0.07201489\n",
      "   1.6862868  -1.11639335]]\n",
      "\n",
      "V:  [[ 0.04876692  1.62111108 -1.54808634 -0.31269417 -0.33835223  0.9820561\n",
      "   0.37012513 -0.19601234]\n",
      " [-1.93868023  1.88238666  1.34964456 -0.13590576 -0.02591865  0.13059406\n",
      "   0.45812663  0.04156297]\n",
      " [-0.43968773 -1.40555815  1.43136222 -1.01499087 -0.20624707 -2.82893707\n",
      "   2.38078187  0.78551241]\n",
      " [ 0.81036722 -0.59994359 -0.41263675 -0.11486738  0.10784994  1.26539226\n",
      "  -1.5387757  -0.85838071]]\n"
     ]
    }
   ],
   "source": [
    "print(\"\\nQ: \", q)\n",
    "print(\"\\nK: \", k)\n",
    "print(\"\\nV: \", v)"
   ]
  },
  {
   "cell_type": "markdown",
   "id": "dbd6f680",
   "metadata": {},
   "source": [
    "# Self Attention"
   ]
  },
  {
   "cell_type": "code",
   "execution_count": 4,
   "id": "ce660d25",
   "metadata": {},
   "outputs": [
    {
     "data": {
      "text/plain": [
       "array([[ 1.93815475,  2.46265347,  0.62906707,  0.85144531],\n",
       "       [-1.42262276, -0.17834291,  2.94794973,  5.27788042],\n",
       "       [ 0.3569163 , -0.04141805, -3.05194722, -2.45236144],\n",
       "       [ 1.44342181,  2.25224006,  0.81571032,  2.09864599]])"
      ]
     },
     "execution_count": 4,
     "metadata": {},
     "output_type": "execute_result"
    }
   ],
   "source": [
    "np.matmul(q, k.T)"
   ]
  },
  {
   "cell_type": "code",
   "execution_count": 5,
   "id": "cf8ea76a",
   "metadata": {},
   "outputs": [
    {
     "data": {
      "text/plain": [
       "(0.6515184420509901, 0.7805136644846842, 4.068995490985916)"
      ]
     },
     "execution_count": 5,
     "metadata": {},
     "output_type": "execute_result"
    }
   ],
   "source": [
    "q.var(), k.var(), np.matmul(q, k.T).var()"
   ]
  },
  {
   "cell_type": "code",
   "execution_count": 6,
   "id": "da8541ad",
   "metadata": {},
   "outputs": [
    {
     "data": {
      "text/plain": [
       "(0.6515184420509901, 0.7805136644846842, 0.5086244363732394)"
      ]
     },
     "execution_count": 6,
     "metadata": {},
     "output_type": "execute_result"
    }
   ],
   "source": [
    "scaled = np.matmul(q, k.T)/math.sqrt(d_k)\n",
    "q.var(), k.var(), scaled.var()"
   ]
  },
  {
   "cell_type": "markdown",
   "id": "8f7e2e68",
   "metadata": {},
   "source": [
    "# Masking\n",
    "\n",
    "specifically require in decoder part of transformer so we dont look at the future word when trying to generate current context"
   ]
  },
  {
   "cell_type": "code",
   "execution_count": 7,
   "id": "16fca04b",
   "metadata": {},
   "outputs": [
    {
     "data": {
      "text/plain": [
       "array([[1., 0., 0., 0.],\n",
       "       [1., 1., 0., 0.],\n",
       "       [1., 1., 1., 0.],\n",
       "       [1., 1., 1., 1.]])"
      ]
     },
     "execution_count": 7,
     "metadata": {},
     "output_type": "execute_result"
    }
   ],
   "source": [
    "mask = np.tril(np.ones((L, L)))\n",
    "mask"
   ]
  },
  {
   "cell_type": "code",
   "execution_count": 8,
   "id": "9d6ac9e7",
   "metadata": {},
   "outputs": [],
   "source": [
    "mask[mask==0] = -np.infty\n",
    "mask[mask==1] = 0"
   ]
  },
  {
   "cell_type": "code",
   "execution_count": 9,
   "id": "40e94cec",
   "metadata": {},
   "outputs": [
    {
     "data": {
      "text/plain": [
       "array([[  0., -inf, -inf, -inf],\n",
       "       [  0.,   0., -inf, -inf],\n",
       "       [  0.,   0.,   0., -inf],\n",
       "       [  0.,   0.,   0.,   0.]])"
      ]
     },
     "execution_count": 9,
     "metadata": {},
     "output_type": "execute_result"
    }
   ],
   "source": [
    "mask"
   ]
  },
  {
   "cell_type": "code",
   "execution_count": 10,
   "id": "6fb04b04",
   "metadata": {},
   "outputs": [
    {
     "data": {
      "text/plain": [
       "array([[ 0.68524118,  0.87067948,  0.2224088 ,  0.30103138],\n",
       "       [-0.5029731 , -0.06305374,  1.04225762,  1.86601252],\n",
       "       [ 0.12618897, -0.01464349, -1.07902629, -0.8670407 ],\n",
       "       [ 0.51032667,  0.79628711,  0.28839715,  0.74198341]])"
      ]
     },
     "execution_count": 10,
     "metadata": {},
     "output_type": "execute_result"
    }
   ],
   "source": [
    "scaled"
   ]
  },
  {
   "cell_type": "code",
   "execution_count": 11,
   "id": "82631ccc",
   "metadata": {},
   "outputs": [
    {
     "data": {
      "text/plain": [
       "array([[ 0.68524118,        -inf,        -inf,        -inf],\n",
       "       [-0.5029731 , -0.06305374,        -inf,        -inf],\n",
       "       [ 0.12618897, -0.01464349, -1.07902629,        -inf],\n",
       "       [ 0.51032667,  0.79628711,  0.28839715,  0.74198341]])"
      ]
     },
     "execution_count": 11,
     "metadata": {},
     "output_type": "execute_result"
    }
   ],
   "source": [
    "scaled + mask"
   ]
  },
  {
   "cell_type": "markdown",
   "id": "83296829",
   "metadata": {},
   "source": [
    "# Softmax\n",
    "\n",
    "operation used to convert vectors into a probability distribution"
   ]
  },
  {
   "cell_type": "code",
   "execution_count": 12,
   "id": "1aaa8c60",
   "metadata": {},
   "outputs": [],
   "source": [
    "def softmax(x):\n",
    "    return (np.exp(x).T / np.sum(np.exp(x), axis=-1)).T\n",
    "\n",
    "def scaled_dot_product_attention(q, k, v, mask=None):\n",
    "    d_k = q.shape[-1]\n",
    "    scaled = np.matmul(q, k.T) / math.sqrt(d_k)\n",
    "    if mask is not None:\n",
    "        scaled = scaled+mask\n",
    "    attention = softmax(scaled)\n",
    "    out = np.matmul(attention, v)\n",
    "    return out, attention"
   ]
  },
  {
   "cell_type": "code",
   "execution_count": 13,
   "id": "70377cd0",
   "metadata": {
    "scrolled": true
   },
   "outputs": [
    {
     "name": "stdout",
     "output_type": "stream",
     "text": [
      "Q:\n",
      " [[ 0.17860127 -0.12679924 -0.70385102 -0.1321929   1.66246326 -0.13830833\n",
      "  -0.91713395  0.38146683]\n",
      " [-0.6867237  -0.36840547  0.34886887  0.60999383  0.49675138  0.05169754\n",
      "   1.73291754 -1.44874149]\n",
      " [-0.5206792   0.88486143  1.55438362  0.45791464  0.76019937  0.63370558\n",
      "  -0.50140007  1.23242755]\n",
      " [-0.5230864  -1.14149062 -0.7578606  -0.59142653  0.76552817 -0.81982243\n",
      "  -0.09392885 -0.11942583]]\n",
      "K:\n",
      " [[-0.25348382  0.65407831 -1.01298103 -1.2455882   0.81397054 -0.20435126\n",
      "   0.78180332  1.37437123]\n",
      " [-0.01597132 -1.51435872 -0.28574857  1.09904496  0.84577145 -0.34560973\n",
      "  -0.67450277  0.38056754]\n",
      " [ 1.1796839   0.55844447 -0.49982861 -0.43669645  0.95549426 -0.8175062\n",
      "   1.24984591 -1.24680455]\n",
      " [-0.43477699 -0.20702378 -0.86591103 -0.02795983  1.36668061  0.07201489\n",
      "   1.6862868  -1.11639335]]\n",
      "V:\n",
      " [[ 0.04876692  1.62111108 -1.54808634 -0.31269417 -0.33835223  0.9820561\n",
      "   0.37012513 -0.19601234]\n",
      " [-1.93868023  1.88238666  1.34964456 -0.13590576 -0.02591865  0.13059406\n",
      "   0.45812663  0.04156297]\n",
      " [-0.43968773 -1.40555815  1.43136222 -1.01499087 -0.20624707 -2.82893707\n",
      "   2.38078187  0.78551241]\n",
      " [ 0.81036722 -0.59994359 -0.41263675 -0.11486738  0.10784994  1.26539226\n",
      "  -1.5387757  -0.85838071]]\n",
      "Values:\n",
      " [[ 0.04876692  1.62111108 -1.54808634 -0.31269417 -0.33835223  0.9820561\n",
      "   0.37012513 -0.19601234]\n",
      " [-1.16007757  1.78002929  0.21442897 -0.20516442 -0.14831768  0.46416299\n",
      "   0.42365114 -0.05150958]\n",
      " [-0.81492943  1.30753267  0.02450691 -0.33891924 -0.19493184  0.11431611\n",
      "   0.68322802  0.03479829]\n",
      " [-0.42394254  0.51095907  0.19910752 -0.33040761 -0.09153464  0.11046663\n",
      "   0.21557015 -0.13514845]]\n",
      "Attention:\n",
      " [[1.         0.         0.         0.        ]\n",
      " [0.39176018 0.60823982 0.         0.        ]\n",
      " [0.46119881 0.40061335 0.13818784 0.        ]\n",
      " [0.2276505  0.30301187 0.18234163 0.286996  ]]\n"
     ]
    }
   ],
   "source": [
    "values , attention = scaled_dot_product_attention(q, k, v, mask=mask)\n",
    "print(\"Q:\\n\",q)\n",
    "print(\"K:\\n\",k)\n",
    "print(\"V:\\n\",v)\n",
    "print(\"Values:\\n\",values)\n",
    "print(\"Attention:\\n\",attention)\n"
   ]
  },
  {
   "cell_type": "code",
   "execution_count": 14,
   "id": "8edbb4e9",
   "metadata": {},
   "outputs": [
    {
     "data": {
      "text/plain": [
       "array([[1.        , 0.        , 0.        , 0.        ],\n",
       "       [0.39176018, 0.60823982, 0.        , 0.        ],\n",
       "       [0.46119881, 0.40061335, 0.13818784, 0.        ],\n",
       "       [0.2276505 , 0.30301187, 0.18234163, 0.286996  ]])"
      ]
     },
     "execution_count": 14,
     "metadata": {},
     "output_type": "execute_result"
    }
   ],
   "source": [
    "attention"
   ]
  },
  {
   "cell_type": "code",
   "execution_count": 15,
   "id": "e2006eb0",
   "metadata": {},
   "outputs": [
    {
     "data": {
      "text/plain": [
       "array([[ 0.04876692,  1.62111108, -1.54808634, -0.31269417, -0.33835223,\n",
       "         0.9820561 ,  0.37012513, -0.19601234],\n",
       "       [-1.16007757,  1.78002929,  0.21442897, -0.20516442, -0.14831768,\n",
       "         0.46416299,  0.42365114, -0.05150958],\n",
       "       [-0.81492943,  1.30753267,  0.02450691, -0.33891924, -0.19493184,\n",
       "         0.11431611,  0.68322802,  0.03479829],\n",
       "       [-0.42394254,  0.51095907,  0.19910752, -0.33040761, -0.09153464,\n",
       "         0.11046663,  0.21557015, -0.13514845]])"
      ]
     },
     "execution_count": 15,
     "metadata": {},
     "output_type": "execute_result"
    }
   ],
   "source": [
    "#multiplying attention matrix to value matrix\n",
    "new_v = np.matmul(attention, v)\n",
    "new_v"
   ]
  },
  {
   "cell_type": "code",
   "execution_count": 16,
   "id": "6f75b5ae",
   "metadata": {},
   "outputs": [
    {
     "data": {
      "text/plain": [
       "array([[ 0.04876692,  1.62111108, -1.54808634, -0.31269417, -0.33835223,\n",
       "         0.9820561 ,  0.37012513, -0.19601234],\n",
       "       [-1.93868023,  1.88238666,  1.34964456, -0.13590576, -0.02591865,\n",
       "         0.13059406,  0.45812663,  0.04156297],\n",
       "       [-0.43968773, -1.40555815,  1.43136222, -1.01499087, -0.20624707,\n",
       "        -2.82893707,  2.38078187,  0.78551241],\n",
       "       [ 0.81036722, -0.59994359, -0.41263675, -0.11486738,  0.10784994,\n",
       "         1.26539226, -1.5387757 , -0.85838071]])"
      ]
     },
     "execution_count": 16,
     "metadata": {},
     "output_type": "execute_result"
    }
   ],
   "source": [
    "v"
   ]
  },
  {
   "cell_type": "code",
   "execution_count": null,
   "id": "08f75f0d",
   "metadata": {},
   "outputs": [],
   "source": []
  }
 ],
 "metadata": {
  "kernelspec": {
   "display_name": "Python 3 (ipykernel)",
   "language": "python",
   "name": "python3"
  },
  "language_info": {
   "codemirror_mode": {
    "name": "ipython",
    "version": 3
   },
   "file_extension": ".py",
   "mimetype": "text/x-python",
   "name": "python",
   "nbconvert_exporter": "python",
   "pygments_lexer": "ipython3",
   "version": "3.11.4"
  }
 },
 "nbformat": 4,
 "nbformat_minor": 5
}
