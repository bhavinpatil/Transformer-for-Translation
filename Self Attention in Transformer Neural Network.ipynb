{
 "cells": [
  {
   "cell_type": "code",
   "execution_count": 2,
   "id": "c08fb245",
   "metadata": {},
   "outputs": [],
   "source": [
    "import numpy as np\n",
    "import math"
   ]
  },
  {
   "cell_type": "code",
   "execution_count": 3,
   "id": "4856a726",
   "metadata": {},
   "outputs": [],
   "source": [
    "L, d_k, d_v = 4, 8, 8\n",
    "# L - length of input sequence\n",
    "\n",
    "# Query Vector for what i am looking for?\n",
    "q = np.random.randn(L, d_k) \n",
    "\n",
    "# key Vector for what i can offer?\n",
    "k = np.random.randn(L, d_k)\n",
    "\n",
    "# Value Vector for what i can actually offer?\n",
    "v = np.random.randn(L, d_k)"
   ]
  },
  {
   "cell_type": "code",
   "execution_count": 4,
   "id": "22929d48",
   "metadata": {},
   "outputs": [
    {
     "name": "stdout",
     "output_type": "stream",
     "text": [
      "\n",
      "Q:  [[ 0.35292165 -2.42305817  0.69046244 -0.47845401  0.50689946 -1.02207339\n",
      "  -0.84721908 -1.41738232]\n",
      " [-0.39111263 -1.22635155 -0.25379764  0.94699906 -0.04908601  0.59878926\n",
      "   0.09471052 -1.18064159]\n",
      " [-1.29704503 -1.56886625  0.03308404  0.67139391  0.01403374  1.89264955\n",
      "   1.24032343 -0.69794846]\n",
      " [ 0.65181004  0.70532573 -0.75087357 -2.1500712   0.35381951 -0.32147255\n",
      "  -0.18700822  1.05418744]]\n",
      "\n",
      "K:  [[-1.05556466 -0.65575548 -0.60045189  0.1701294  -1.6596807  -0.39826288\n",
      "   0.21002508 -0.22950192]\n",
      " [-0.37452831 -0.97842119  0.75160694 -0.57925442  1.18437778 -1.38003843\n",
      "   1.04940125  1.10597404]\n",
      " [ 1.90459612 -0.87242125 -0.21312456 -0.68596798  0.54010164 -0.43779328\n",
      "  -1.92585614  0.17720304]\n",
      " [ 0.26655539 -0.28642872  0.81852355  0.58848341  1.22661266 -0.90873139\n",
      "  -0.03056235  0.92031232]]\n",
      "\n",
      "V:  [[-1.75679877  2.34325231  0.1777176   1.95375292  1.31817722  0.57872102\n",
      "  -0.87563972 -0.11241762]\n",
      " [ 1.49006228 -0.83211621 -2.04190506 -0.318155    1.47569886 -1.05394128\n",
      "   0.23764006  1.09179655]\n",
      " [ 0.86880906  2.14555269 -0.89980479  1.03469467 -0.69301851 -1.33113993\n",
      "   1.11267869 -0.92377774]\n",
      " [ 0.00774416 -1.47587808 -1.16710467  1.44227573  1.82565956 -0.41308845\n",
      "  -1.23327636  0.36942283]]\n"
     ]
    }
   ],
   "source": [
    "print(\"\\nQ: \", q)\n",
    "print(\"\\nK: \", k)\n",
    "print(\"\\nV: \", v)"
   ]
  },
  {
   "cell_type": "markdown",
   "id": "dbd6f680",
   "metadata": {},
   "source": [
    "# Self Attention"
   ]
  },
  {
   "cell_type": "code",
   "execution_count": 12,
   "id": "ce660d25",
   "metadata": {},
   "outputs": [
    {
     "data": {
      "text/plain": [
       "array([[ 0.43353084,  2.58889548,  5.06884197,  1.3437222 ],\n",
       "       [ 1.66437974, -1.48379655, -0.95080644, -1.09723868],\n",
       "       [ 2.13588196, -0.4088734 , -4.90261313, -1.85711561],\n",
       "       [-1.80588701,  1.57920722,  3.13979647, -0.20614222]])"
      ]
     },
     "execution_count": 12,
     "metadata": {},
     "output_type": "execute_result"
    }
   ],
   "source": [
    "np.matmul(q, k.T)"
   ]
  },
  {
   "cell_type": "code",
   "execution_count": 14,
   "id": "cf8ea76a",
   "metadata": {},
   "outputs": [
    {
     "data": {
      "text/plain": [
       "(0.9842740304810997, 0.8086087934326633, 5.476324364169954)"
      ]
     },
     "execution_count": 14,
     "metadata": {},
     "output_type": "execute_result"
    }
   ],
   "source": [
    "q.var(), k.var(), np.matmul(q, k.T).var()"
   ]
  },
  {
   "cell_type": "code",
   "execution_count": 15,
   "id": "da8541ad",
   "metadata": {},
   "outputs": [
    {
     "data": {
      "text/plain": [
       "(0.9842740304810997, 0.8086087934326633, 0.6845405455212442)"
      ]
     },
     "execution_count": 15,
     "metadata": {},
     "output_type": "execute_result"
    }
   ],
   "source": [
    "scaled = np.matmul(q, k.T)/math.sqrt(d_k)\n",
    "q.var(), k.var(), scaled.var()"
   ]
  },
  {
   "cell_type": "markdown",
   "id": "8f7e2e68",
   "metadata": {},
   "source": [
    "# Maksing\n",
    "\n",
    "specifically require in decoder part of transformer so we dont look at the future word when trying to generate current context"
   ]
  },
  {
   "cell_type": "code",
   "execution_count": 8,
   "id": "16fca04b",
   "metadata": {},
   "outputs": [
    {
     "data": {
      "text/plain": [
       "array([[1., 0., 0., 0.],\n",
       "       [1., 1., 0., 0.],\n",
       "       [1., 1., 1., 0.],\n",
       "       [1., 1., 1., 1.]])"
      ]
     },
     "execution_count": 8,
     "metadata": {},
     "output_type": "execute_result"
    }
   ],
   "source": [
    "mask = np.tril(np.ones((L, L)))\n",
    "mask"
   ]
  },
  {
   "cell_type": "code",
   "execution_count": 9,
   "id": "9d6ac9e7",
   "metadata": {},
   "outputs": [],
   "source": [
    "mask[mask==0] = -np.infty\n",
    "mask[mask==1] = 0"
   ]
  },
  {
   "cell_type": "code",
   "execution_count": 10,
   "id": "40e94cec",
   "metadata": {},
   "outputs": [
    {
     "data": {
      "text/plain": [
       "array([[  0., -inf, -inf, -inf],\n",
       "       [  0.,   0., -inf, -inf],\n",
       "       [  0.,   0.,   0., -inf],\n",
       "       [  0.,   0.,   0.,   0.]])"
      ]
     },
     "execution_count": 10,
     "metadata": {},
     "output_type": "execute_result"
    }
   ],
   "source": [
    "mask"
   ]
  },
  {
   "cell_type": "code",
   "execution_count": 16,
   "id": "6fb04b04",
   "metadata": {},
   "outputs": [
    {
     "data": {
      "text/plain": [
       "array([[ 0.1532763 ,  0.91531278,  1.79210627,  0.47507754],\n",
       "       [ 0.5884471 , -0.5246013 , -0.33616084, -0.38793246],\n",
       "       [ 0.75514831, -0.14455858, -1.7333355 , -0.65658952],\n",
       "       [-0.63847748,  0.55833407,  1.11008569, -0.07288228]])"
      ]
     },
     "execution_count": 16,
     "metadata": {},
     "output_type": "execute_result"
    }
   ],
   "source": [
    "scaled"
   ]
  },
  {
   "cell_type": "code",
   "execution_count": 17,
   "id": "82631ccc",
   "metadata": {},
   "outputs": [
    {
     "data": {
      "text/plain": [
       "array([[ 0.1532763 ,        -inf,        -inf,        -inf],\n",
       "       [ 0.5884471 , -0.5246013 ,        -inf,        -inf],\n",
       "       [ 0.75514831, -0.14455858, -1.7333355 ,        -inf],\n",
       "       [-0.63847748,  0.55833407,  1.11008569, -0.07288228]])"
      ]
     },
     "execution_count": 17,
     "metadata": {},
     "output_type": "execute_result"
    }
   ],
   "source": [
    "scaled + mask"
   ]
  },
  {
   "cell_type": "markdown",
   "id": "83296829",
   "metadata": {},
   "source": [
    "# Softmax\n",
    "\n",
    "operation used to convert vectors into a probability distribution"
   ]
  },
  {
   "cell_type": "code",
   "execution_count": 29,
   "id": "1aaa8c60",
   "metadata": {},
   "outputs": [],
   "source": [
    "def softmax(x):\n",
    "    return (np.exp(x).T / np.sum(np.exp(x), axis=-1)).T\n",
    "\n",
    "def scaled_dot_product_attention(q, k, v, mask=None):\n",
    "    d_k = q.shape[-1]\n",
    "    scaled = np.matmul(q, k.T) / math.sqrt(d_k)\n",
    "    if mask is not None:\n",
    "        scaled = scaled+mask\n",
    "    attention = softmax(scaled)\n",
    "    out = np.matmul(attention, v)\n",
    "    return out, attention"
   ]
  },
  {
   "cell_type": "code",
   "execution_count": 31,
   "id": "70377cd0",
   "metadata": {
    "scrolled": true
   },
   "outputs": [
    {
     "name": "stdout",
     "output_type": "stream",
     "text": [
      "Q:\n",
      " [[ 0.35292165 -2.42305817  0.69046244 -0.47845401  0.50689946 -1.02207339\n",
      "  -0.84721908 -1.41738232]\n",
      " [-0.39111263 -1.22635155 -0.25379764  0.94699906 -0.04908601  0.59878926\n",
      "   0.09471052 -1.18064159]\n",
      " [-1.29704503 -1.56886625  0.03308404  0.67139391  0.01403374  1.89264955\n",
      "   1.24032343 -0.69794846]\n",
      " [ 0.65181004  0.70532573 -0.75087357 -2.1500712   0.35381951 -0.32147255\n",
      "  -0.18700822  1.05418744]]\n",
      "K:\n",
      " [[-1.05556466 -0.65575548 -0.60045189  0.1701294  -1.6596807  -0.39826288\n",
      "   0.21002508 -0.22950192]\n",
      " [-0.37452831 -0.97842119  0.75160694 -0.57925442  1.18437778 -1.38003843\n",
      "   1.04940125  1.10597404]\n",
      " [ 1.90459612 -0.87242125 -0.21312456 -0.68596798  0.54010164 -0.43779328\n",
      "  -1.92585614  0.17720304]\n",
      " [ 0.26655539 -0.28642872  0.81852355  0.58848341  1.22661266 -0.90873139\n",
      "  -0.03056235  0.92031232]]\n",
      "V:\n",
      " [[-1.75679877  2.34325231  0.1777176   1.95375292  1.31817722  0.57872102\n",
      "  -0.87563972 -0.11241762]\n",
      " [ 1.49006228 -0.83211621 -2.04190506 -0.318155    1.47569886 -1.05394128\n",
      "   0.23764006  1.09179655]\n",
      " [ 0.86880906  2.14555269 -0.89980479  1.03469467 -0.69301851 -1.33113993\n",
      "   1.11267869 -0.92377774]\n",
      " [ 0.00774416 -1.47587808 -1.16710467  1.44227573  1.82565956 -0.41308845\n",
      "  -1.23327636  0.36942283]]\n",
      "Values:\n",
      " [[-1.75679877  2.34325231  0.1777176   1.95375292  1.31817722  0.57872102\n",
      "  -0.87563972 -0.11241762]\n",
      " [-0.95384026  1.55797412 -0.37120176  1.39190325  1.3571328   0.17495872\n",
      "  -0.60032228  0.18538817]\n",
      " [-0.72406995  1.46536986 -0.48829051  1.28230377  1.24907795  0.02655701\n",
      "  -0.46089191  0.17110361]\n",
      " [ 0.69232178  0.78874585 -1.16832123  0.79428966  0.45985458 -0.95509522\n",
      "   0.34981046 -0.09791819]]\n",
      "Attention:\n",
      " [[1.         0.         0.         0.        ]\n",
      " [0.75269699 0.24730301 0.         0.        ]\n",
      " [0.671265   0.27299599 0.05573901 0.        ]\n",
      " [0.08462826 0.28008128 0.48630279 0.14898766]]\n"
     ]
    }
   ],
   "source": [
    "values , attention = scaled_dot_product_attention(q, k, v, mask=mask)\n",
    "print(\"Q:\\n\",q)\n",
    "print(\"K:\\n\",k)\n",
    "print(\"V:\\n\",v)\n",
    "print(\"Values:\\n\",values)\n",
    "print(\"Attention:\\n\",attention)\n"
   ]
  },
  {
   "cell_type": "code",
   "execution_count": 20,
   "id": "8edbb4e9",
   "metadata": {},
   "outputs": [
    {
     "data": {
      "text/plain": [
       "array([[1.        , 0.        , 0.        , 0.        ],\n",
       "       [0.75269699, 0.24730301, 0.        , 0.        ],\n",
       "       [0.671265  , 0.27299599, 0.05573901, 0.        ],\n",
       "       [0.08462826, 0.28008128, 0.48630279, 0.14898766]])"
      ]
     },
     "execution_count": 20,
     "metadata": {},
     "output_type": "execute_result"
    }
   ],
   "source": [
    "attention"
   ]
  },
  {
   "cell_type": "code",
   "execution_count": 22,
   "id": "e2006eb0",
   "metadata": {},
   "outputs": [
    {
     "data": {
      "text/plain": [
       "array([[-1.75679877,  2.34325231,  0.1777176 ,  1.95375292,  1.31817722,\n",
       "         0.57872102, -0.87563972, -0.11241762],\n",
       "       [-0.95384026,  1.55797412, -0.37120176,  1.39190325,  1.3571328 ,\n",
       "         0.17495872, -0.60032228,  0.18538817],\n",
       "       [-0.72406995,  1.46536986, -0.48829051,  1.28230377,  1.24907795,\n",
       "         0.02655701, -0.46089191,  0.17110361],\n",
       "       [ 0.69232178,  0.78874585, -1.16832123,  0.79428966,  0.45985458,\n",
       "        -0.95509522,  0.34981046, -0.09791819]])"
      ]
     },
     "execution_count": 22,
     "metadata": {},
     "output_type": "execute_result"
    }
   ],
   "source": [
    "#multiplying attention matrix to value matrix\n",
    "new_v = np.matmul(attention, v)\n",
    "new_v"
   ]
  },
  {
   "cell_type": "code",
   "execution_count": 23,
   "id": "6f75b5ae",
   "metadata": {},
   "outputs": [
    {
     "data": {
      "text/plain": [
       "array([[-1.75679877,  2.34325231,  0.1777176 ,  1.95375292,  1.31817722,\n",
       "         0.57872102, -0.87563972, -0.11241762],\n",
       "       [ 1.49006228, -0.83211621, -2.04190506, -0.318155  ,  1.47569886,\n",
       "        -1.05394128,  0.23764006,  1.09179655],\n",
       "       [ 0.86880906,  2.14555269, -0.89980479,  1.03469467, -0.69301851,\n",
       "        -1.33113993,  1.11267869, -0.92377774],\n",
       "       [ 0.00774416, -1.47587808, -1.16710467,  1.44227573,  1.82565956,\n",
       "        -0.41308845, -1.23327636,  0.36942283]])"
      ]
     },
     "execution_count": 23,
     "metadata": {},
     "output_type": "execute_result"
    }
   ],
   "source": [
    "v"
   ]
  },
  {
   "cell_type": "code",
   "execution_count": null,
   "id": "08f75f0d",
   "metadata": {},
   "outputs": [],
   "source": []
  }
 ],
 "metadata": {
  "kernelspec": {
   "display_name": "Python 3 (ipykernel)",
   "language": "python",
   "name": "python3"
  },
  "language_info": {
   "codemirror_mode": {
    "name": "ipython",
    "version": 3
   },
   "file_extension": ".py",
   "mimetype": "text/x-python",
   "name": "python",
   "nbconvert_exporter": "python",
   "pygments_lexer": "ipython3",
   "version": "3.11.4"
  }
 },
 "nbformat": 4,
 "nbformat_minor": 5
}
