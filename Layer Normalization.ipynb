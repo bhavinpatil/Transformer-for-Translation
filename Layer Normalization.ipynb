{
 "cells": [
  {
   "cell_type": "code",
   "execution_count": 1,
   "id": "d983a0ed",
   "metadata": {},
   "outputs": [],
   "source": [
    "import torch\n",
    "from torch import nn"
   ]
  },
  {
   "cell_type": "code",
   "execution_count": 3,
   "id": "34ab7a9c",
   "metadata": {},
   "outputs": [
    {
     "data": {
      "text/plain": [
       "torch.Size([2, 1, 3])"
      ]
     },
     "execution_count": 3,
     "metadata": {},
     "output_type": "execute_result"
    }
   ],
   "source": [
    "inputs = torch.Tensor([[[0.2, 0.1, 0.3], [0.5, 0.1, 0.1]]])\n",
    "B, S, E = inputs.size()\n",
    "inputs = inputs.reshape(S, B, E)\n",
    "inputs.size()"
   ]
  },
  {
   "cell_type": "code",
   "execution_count": 4,
   "id": "9c01c6ac",
   "metadata": {},
   "outputs": [],
   "source": [
    "parameter_shape = inputs.size()[-2:]\n",
    "gamma = nn.Parameter(torch.ones(parameter_shape))\n",
    "beta = nn.Parameter(torch.zeros(parameter_shape))"
   ]
  },
  {
   "cell_type": "code",
   "execution_count": 5,
   "id": "7b2e8407",
   "metadata": {},
   "outputs": [
    {
     "data": {
      "text/plain": [
       "(torch.Size([1, 3]), torch.Size([1, 3]))"
      ]
     },
     "execution_count": 5,
     "metadata": {},
     "output_type": "execute_result"
    }
   ],
   "source": [
    "gamma.size(), beta.size()"
   ]
  },
  {
   "cell_type": "code",
   "execution_count": 6,
   "id": "ef1fbf28",
   "metadata": {},
   "outputs": [],
   "source": [
    "dims = [-(i+1) for i in range(len(parameter_shape))]"
   ]
  },
  {
   "cell_type": "code",
   "execution_count": 8,
   "id": "ab5c5051",
   "metadata": {},
   "outputs": [
    {
     "data": {
      "text/plain": [
       "[-1, -2]"
      ]
     },
     "execution_count": 8,
     "metadata": {},
     "output_type": "execute_result"
    }
   ],
   "source": [
    "dims"
   ]
  },
  {
   "cell_type": "code",
   "execution_count": 10,
   "id": "4e732bab",
   "metadata": {},
   "outputs": [
    {
     "data": {
      "text/plain": [
       "torch.Size([2, 1, 1])"
      ]
     },
     "execution_count": 10,
     "metadata": {},
     "output_type": "execute_result"
    }
   ],
   "source": [
    "mean = inputs.mean(dim = dims,keepdim=True)\n",
    "mean.size()"
   ]
  },
  {
   "cell_type": "code",
   "execution_count": 11,
   "id": "ecb608e7",
   "metadata": {},
   "outputs": [
    {
     "data": {
      "text/plain": [
       "tensor([[[0.2000]],\n",
       "\n",
       "        [[0.2333]]])"
      ]
     },
     "execution_count": 11,
     "metadata": {},
     "output_type": "execute_result"
    }
   ],
   "source": [
    "mean"
   ]
  },
  {
   "cell_type": "code",
   "execution_count": 12,
   "id": "def06888",
   "metadata": {},
   "outputs": [
    {
     "data": {
      "text/plain": [
       "tensor([[[0.0817]],\n",
       "\n",
       "        [[0.1886]]])"
      ]
     },
     "execution_count": 12,
     "metadata": {},
     "output_type": "execute_result"
    }
   ],
   "source": [
    "var = ((inputs-mean)**2).mean(dim = dims, keepdim = True)\n",
    "epsilon=1e-5\n",
    "std = (var+epsilon).sqrt()\n",
    "std"
   ]
  },
  {
   "cell_type": "code",
   "execution_count": 14,
   "id": "c293265f",
   "metadata": {},
   "outputs": [
    {
     "data": {
      "text/plain": [
       "tensor([[[ 0.0000, -1.2238,  1.2238]],\n",
       "\n",
       "        [[ 1.4140, -0.7070, -0.7070]]])"
      ]
     },
     "execution_count": 14,
     "metadata": {},
     "output_type": "execute_result"
    }
   ],
   "source": [
    "y = (inputs-mean)/std\n",
    "y"
   ]
  },
  {
   "cell_type": "code",
   "execution_count": 15,
   "id": "b363b8e4",
   "metadata": {},
   "outputs": [],
   "source": [
    "out = gamma * y + beta"
   ]
  },
  {
   "cell_type": "code",
   "execution_count": 16,
   "id": "bb90878f",
   "metadata": {},
   "outputs": [
    {
     "data": {
      "text/plain": [
       "tensor([[[ 0.0000, -1.2238,  1.2238]],\n",
       "\n",
       "        [[ 1.4140, -0.7070, -0.7070]]], grad_fn=<AddBackward0>)"
      ]
     },
     "execution_count": 16,
     "metadata": {},
     "output_type": "execute_result"
    }
   ],
   "source": [
    "out"
   ]
  },
  {
   "cell_type": "markdown",
   "id": "957ed806",
   "metadata": {},
   "source": [
    "# Final Coded Class"
   ]
  },
  {
   "cell_type": "code",
   "execution_count": 21,
   "id": "e8d3929b",
   "metadata": {},
   "outputs": [],
   "source": [
    "import torch\n",
    "from torch import nn\n",
    "\n",
    "\n",
    "class LayerNormalization():\n",
    "    def __init__(self, parameters_shape, eps=1e-5):\n",
    "        self.parameters_shape = parameters_shape\n",
    "        self.eps = eps\n",
    "        self.gamma = nn.Parameter(torch.ones(parameters_shape))\n",
    "        self.beta = nn.Parameter(torch.zeros(parameters_shape))\n",
    "    \n",
    "    def forward(self, input):\n",
    "        dims = [-(i+1) for i in range(len(self.parameters_shape))]\n",
    "        mean = inputs.mean(dim = dims,keepdim=True)\n",
    "        print(f\"Mean\\n({mean.size()}): \\n{mean}\")\n",
    "        var = ((inputs-mean)**2).mean(dim = dims, keepdim = True)\n",
    "        std = (var+self.eps).sqrt()\n",
    "        print(f\"Standard Deviation \\n({std.size()}): \\n {std}\")\n",
    "        y = (inputs-mean)/std\n",
    "        print(f\"y \\n ({y.size()}) = \\n {y}\")\n",
    "        out = self.gamma*y+self.beta\n",
    "        print(f\"out \\n ({out.size()}) = \\n {out}\")\n",
    "        return out"
   ]
  },
  {
   "cell_type": "code",
   "execution_count": 22,
   "id": "7ba0067f",
   "metadata": {},
   "outputs": [
    {
     "name": "stdout",
     "output_type": "stream",
     "text": [
      "input \n",
      " (torch.Size([5, 3, 8])) = \n",
      " tensor([[[ 0.4483, -0.8446,  0.4163,  0.4035,  0.7656, -0.4665, -0.0477,\n",
      "           1.6926],\n",
      "         [ 1.0695, -1.0304, -1.4541, -0.1808,  1.3723, -0.4448,  0.3324,\n",
      "          -0.1096],\n",
      "         [-1.4080, -0.7032,  0.8333, -0.5489, -1.0976,  1.3816, -0.5604,\n",
      "           1.1932]],\n",
      "\n",
      "        [[ 0.1203,  0.3701, -0.0965, -0.3001, -0.9296,  1.9759,  1.4141,\n",
      "          -0.1827],\n",
      "         [-0.6961,  0.0852, -0.4433,  1.8251, -0.0195, -0.6754, -1.4085,\n",
      "           0.2618],\n",
      "         [-0.5855, -0.9787,  0.9353, -0.7325,  0.1625, -0.8249, -1.0062,\n",
      "           0.8623]],\n",
      "\n",
      "        [[ 1.3271,  0.3044, -1.2154, -0.7595, -0.3714,  1.0765,  0.8129,\n",
      "          -0.5579],\n",
      "         [-1.7047,  0.1477,  0.3521, -1.1187, -0.1087, -1.6481, -0.6429,\n",
      "           1.0010],\n",
      "         [ 0.1528, -0.1740,  1.5574, -1.3735,  0.0333,  0.7055, -0.8190,\n",
      "           1.9306]],\n",
      "\n",
      "        [[-0.8772, -0.0215,  0.0136,  0.4636,  1.4950,  0.1716, -1.0654,\n",
      "           2.3146],\n",
      "         [-1.6381, -2.1887, -1.2728, -0.2798, -1.1017,  0.8549, -0.3205,\n",
      "          -0.2449],\n",
      "         [-1.1069,  0.3509,  0.9821,  1.7168, -0.0792, -0.0973, -0.4711,\n",
      "           0.7179]],\n",
      "\n",
      "        [[-0.0605, -1.2638, -2.6444, -1.4929,  0.3494, -0.6095,  0.8772,\n",
      "           0.4327],\n",
      "         [-0.1029, -1.2196,  0.2657, -0.8149, -0.0539, -1.1919, -1.7681,\n",
      "           1.6477],\n",
      "         [ 0.5477, -0.6676, -2.7645,  0.2047,  0.6960, -0.1327, -0.0351,\n",
      "          -0.1242]]])\n"
     ]
    }
   ],
   "source": [
    "batch_size = 3\n",
    "sentence_len = 5\n",
    "embedding_dim = 8\n",
    "inputs = torch.randn(sentence_len, batch_size, embedding_dim)\n",
    "\n",
    "print(f\"input \\n ({inputs.size()}) = \\n {inputs}\")"
   ]
  },
  {
   "cell_type": "code",
   "execution_count": 25,
   "id": "612da36b",
   "metadata": {},
   "outputs": [],
   "source": [
    "layer_norm = LayerNormalization(inputs.size()[-1:])"
   ]
  },
  {
   "cell_type": "code",
   "execution_count": 26,
   "id": "2f3ef2a1",
   "metadata": {},
   "outputs": [
    {
     "name": "stdout",
     "output_type": "stream",
     "text": [
      "Mean\n",
      "(torch.Size([5, 3, 1])): \n",
      "tensor([[[ 0.2959],\n",
      "         [-0.0557],\n",
      "         [-0.1138]],\n",
      "\n",
      "        [[ 0.2965],\n",
      "         [-0.1339],\n",
      "         [-0.2709]],\n",
      "\n",
      "        [[ 0.0771],\n",
      "         [-0.4653],\n",
      "         [ 0.2516]],\n",
      "\n",
      "        [[ 0.3118],\n",
      "         [-0.7740],\n",
      "         [ 0.2517]],\n",
      "\n",
      "        [[-0.5515],\n",
      "         [-0.4047],\n",
      "         [-0.2845]]])\n",
      "Standard Deviation \n",
      "(torch.Size([5, 3, 1])): \n",
      " tensor([[[0.7263],\n",
      "         [0.9036],\n",
      "         [1.0137]],\n",
      "\n",
      "        [[0.8909],\n",
      "         [0.8934],\n",
      "         [0.7573]],\n",
      "\n",
      "        [[0.8753],\n",
      "         [0.9162],\n",
      "         [1.0462]],\n",
      "\n",
      "        [[1.0586],\n",
      "         [0.9005],\n",
      "         [0.8297]],\n",
      "\n",
      "        [[1.1091],\n",
      "         [1.0116],\n",
      "         [1.0187]]])\n",
      "y \n",
      " (torch.Size([5, 3, 8])) = \n",
      " tensor([[[ 0.2097, -1.5702,  0.1657,  0.1481,  0.6466, -1.0497, -0.4731,\n",
      "           1.9228],\n",
      "         [ 1.2452, -1.0787, -1.5477, -0.1385,  1.5804, -0.4306,  0.4295,\n",
      "          -0.0597],\n",
      "         [-1.2768, -0.5815,  0.9342, -0.4293, -0.9706,  1.4751, -0.4406,\n",
      "           1.2893]],\n",
      "\n",
      "        [[-0.1977,  0.0827, -0.4410, -0.6696, -1.3763,  1.8851,  1.2546,\n",
      "          -0.5378],\n",
      "         [-0.6294,  0.2451, -0.3464,  2.1927,  0.1280, -0.6062, -1.4268,\n",
      "           0.4428],\n",
      "         [-0.4153, -0.9346,  1.5929, -0.6095,  0.5724, -0.7315, -0.9709,\n",
      "           1.4966]],\n",
      "\n",
      "        [[ 1.4280,  0.2597, -1.4766, -0.9558, -0.5123,  1.1418,  0.8407,\n",
      "          -0.7255],\n",
      "         [-1.3528,  0.6691,  0.8922, -0.7132,  0.3892, -1.2911, -0.1939,\n",
      "           1.6005],\n",
      "         [-0.0944, -0.4069,  1.2481, -1.5534, -0.2087,  0.4338, -1.0234,\n",
      "           1.6049]],\n",
      "\n",
      "        [[-1.1232, -0.3149, -0.2816,  0.1434,  1.1178, -0.1325, -1.3010,\n",
      "           1.8920],\n",
      "         [-0.9596, -1.5710, -0.5540,  0.5487, -0.3639,  1.8088,  0.5035,\n",
      "           0.5876],\n",
      "         [-1.6375,  0.1197,  0.8804,  1.7659, -0.3988, -0.4206, -0.8711,\n",
      "           0.5620]],\n",
      "\n",
      "        [[ 0.4427, -0.6423, -1.8871, -0.8489,  0.8123, -0.0523,  1.2882,\n",
      "           0.8874],\n",
      "         [ 0.2984, -0.8055,  0.6628, -0.4054,  0.3468, -0.7781, -1.3477,\n",
      "           2.0289],\n",
      "         [ 0.8169, -0.3761, -2.4346,  0.4802,  0.9625,  0.1490,  0.2448,\n",
      "           0.1573]]])\n",
      "out \n",
      " (torch.Size([5, 3, 8])) = \n",
      " tensor([[[ 0.2097, -1.5702,  0.1657,  0.1481,  0.6466, -1.0497, -0.4731,\n",
      "           1.9228],\n",
      "         [ 1.2452, -1.0787, -1.5477, -0.1385,  1.5804, -0.4306,  0.4295,\n",
      "          -0.0597],\n",
      "         [-1.2768, -0.5815,  0.9342, -0.4293, -0.9706,  1.4751, -0.4406,\n",
      "           1.2893]],\n",
      "\n",
      "        [[-0.1977,  0.0827, -0.4410, -0.6696, -1.3763,  1.8851,  1.2546,\n",
      "          -0.5378],\n",
      "         [-0.6294,  0.2451, -0.3464,  2.1927,  0.1280, -0.6062, -1.4268,\n",
      "           0.4428],\n",
      "         [-0.4153, -0.9346,  1.5929, -0.6095,  0.5724, -0.7315, -0.9709,\n",
      "           1.4966]],\n",
      "\n",
      "        [[ 1.4280,  0.2597, -1.4766, -0.9558, -0.5123,  1.1418,  0.8407,\n",
      "          -0.7255],\n",
      "         [-1.3528,  0.6691,  0.8922, -0.7132,  0.3892, -1.2911, -0.1939,\n",
      "           1.6005],\n",
      "         [-0.0944, -0.4069,  1.2481, -1.5534, -0.2087,  0.4338, -1.0234,\n",
      "           1.6049]],\n",
      "\n",
      "        [[-1.1232, -0.3149, -0.2816,  0.1434,  1.1178, -0.1325, -1.3010,\n",
      "           1.8920],\n",
      "         [-0.9596, -1.5710, -0.5540,  0.5487, -0.3639,  1.8088,  0.5035,\n",
      "           0.5876],\n",
      "         [-1.6375,  0.1197,  0.8804,  1.7659, -0.3988, -0.4206, -0.8711,\n",
      "           0.5620]],\n",
      "\n",
      "        [[ 0.4427, -0.6423, -1.8871, -0.8489,  0.8123, -0.0523,  1.2882,\n",
      "           0.8874],\n",
      "         [ 0.2984, -0.8055,  0.6628, -0.4054,  0.3468, -0.7781, -1.3477,\n",
      "           2.0289],\n",
      "         [ 0.8169, -0.3761, -2.4346,  0.4802,  0.9625,  0.1490,  0.2448,\n",
      "           0.1573]]], grad_fn=<AddBackward0>)\n"
     ]
    }
   ],
   "source": [
    "out = layer_norm.forward(inputs)"
   ]
  },
  {
   "cell_type": "code",
   "execution_count": null,
   "id": "bbeabca2",
   "metadata": {},
   "outputs": [],
   "source": []
  }
 ],
 "metadata": {
  "kernelspec": {
   "display_name": "Python 3 (ipykernel)",
   "language": "python",
   "name": "python3"
  },
  "language_info": {
   "codemirror_mode": {
    "name": "ipython",
    "version": 3
   },
   "file_extension": ".py",
   "mimetype": "text/x-python",
   "name": "python",
   "nbconvert_exporter": "python",
   "pygments_lexer": "ipython3",
   "version": "3.11.4"
  }
 },
 "nbformat": 4,
 "nbformat_minor": 5
}
